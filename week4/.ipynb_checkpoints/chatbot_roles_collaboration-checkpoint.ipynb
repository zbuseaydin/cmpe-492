{
 "cells": [
  {
   "cell_type": "code",
   "execution_count": 1,
   "id": "61fe5dd3-aea8-4d77-a552-5f526c49e120",
   "metadata": {},
   "outputs": [],
   "source": [
    "from dotenv import load_dotenv\n",
    "from langchain_cohere import ChatCohere\n",
    "\n",
    "load_dotenv()\n",
    "\n",
    "llm = ChatCohere(model=\"command-r-plus\")\n"
   ]
  },
  {
   "cell_type": "code",
   "execution_count": 2,
   "id": "c3a15ee9-9b0c-4b18-bb23-527445d7ad7e",
   "metadata": {},
   "outputs": [],
   "source": [
    "from langgraph.checkpoint.memory import MemorySaver\n",
    "\n",
    "memory = MemorySaver()"
   ]
  },
  {
   "cell_type": "code",
   "execution_count": 3,
   "id": "981365ac-5184-4464-9cc5-513a6655fd16",
   "metadata": {},
   "outputs": [],
   "source": [
    "from langchain_core.messages import HumanMessage, ToolMessage\n",
    "\n",
    "\n",
    "def agent_node(state, agent, name):\n",
    "    result = agent.invoke(state)\n",
    "    return {\n",
    "        \"messages\": [HumanMessage(content=result.content, name=name)]\n",
    "    }"
   ]
  },
  {
   "cell_type": "code",
   "execution_count": 4,
   "id": "d5cbb388-2765-40d2-85fd-ff41903a5966",
   "metadata": {},
   "outputs": [],
   "source": [
    "from langchain_core.prompts import ChatPromptTemplate\n",
    "from langchain_core.output_parsers import StrOutputParser\n",
    "from langchain_core.tools import tool\n",
    "\n",
    "\n",
    "expert_prompt_template = ChatPromptTemplate.from_messages(\n",
    "    [(\"system\", \"{system_prompt}\"), (\"user\", \"{user_prompt}\")]\n",
    ")\n",
    "expert_chain = expert_prompt_template | llm | StrOutputParser()\n",
    "\n"
   ]
  },
  {
   "cell_type": "code",
   "execution_count": 5,
   "id": "f77b7d6d-0f9a-44f1-aaf8-724348c7326b",
   "metadata": {},
   "outputs": [
    {
     "data": {
      "text/plain": [
       "<langgraph.graph.state.StateGraph at 0x1525a5f70>"
      ]
     },
     "execution_count": 5,
     "metadata": {},
     "output_type": "execute_result"
    }
   ],
   "source": [
    "import functools\n",
    "import operator\n",
    "from typing import Sequence, Annotated\n",
    "from typing_extensions import TypedDict\n",
    "\n",
    "from langchain_core.messages import BaseMessage\n",
    "\n",
    "from langgraph.graph import END, StateGraph, START\n",
    "from langgraph.prebuilt import create_react_agent\n",
    "\n",
    "from langchain_core.prompts import ChatPromptTemplate, MessagesPlaceholder\n",
    "from pydantic import BaseModel\n",
    "from typing import Literal\n",
    "\n",
    "\n",
    "# add \"legal consultant\"\n",
    "#expert_system_prompts = {\n",
    "#    \"technical assistant\": \"You are an expert in technical issues and help with coding or technical problem solving.\",\n",
    "#    \"financial advisor\": \"You provide advice and insights on financial matters, including budgeting, investment, and expenses.\", \n",
    "#    \"health expert\": \"You offer guidance on health, nutrition, and fitness-related topics.\", \n",
    "#    \"mental health guide\": \"You offer guidance on mental health, and psychology-related topics.\", \n",
    "#    \"travel guide\": \"You provide travel tips, itinerary suggestions, and destination recommendations.\"\n",
    "#}\n",
    "\n",
    "    \n",
    "\n",
    "# add \"legal consultant\"\n",
    "members = [\"Technical Assistant\", \"Financial Advisor\", \"Health Expert\", \"Mental Health Guide\", \"Travel Guide\"]\n",
    "\n",
    "system_prompt = (\n",
    "    \"You are a supervisor tasked with passing the user question/requests to the relevant experts.\"\n",
    "    \" The experts are: {members}. Given the following user request,\"\n",
    "    \" respond with the expert to act next. The chosen expert should \"\n",
    "    \" respond with its results. Once you got a response (information) from an expert, \"\n",
    "    \" respond with FINISH.\"\n",
    ")\n",
    "# Our team supervisor is an LLM node. It just picks the next agent to process\n",
    "# and decides when the work is completed\n",
    "options = [\"FINISH\"] + members\n",
    "\n",
    "\n",
    "class routeResponse(BaseModel):\n",
    "    next: Literal[*options]\n",
    "\n",
    "\n",
    "prompt = ChatPromptTemplate.from_messages(\n",
    "    [\n",
    "        (\"system\", system_prompt),\n",
    "        MessagesPlaceholder(variable_name=\"messages\"),\n",
    "        (\n",
    "            \"user\",\n",
    "            \"Given the conversation above, who should act next?\"\n",
    "            \" Or should we FINISH (if an expert already provided information)? Select one of: {options}\",\n",
    "        ),\n",
    "    ]\n",
    ").partial(options=str(options), members=\", \".join(members))\n",
    "\n",
    "\n",
    "def supervisor_agent(state):\n",
    "    supervisor_chain = prompt | llm.with_structured_output(routeResponse)\n",
    "    response = supervisor_chain.invoke(state)\n",
    "    return response\n",
    "\n",
    "\n",
    "# The agent state is the input to each node in the graph\n",
    "class AgentState(TypedDict):\n",
    "    # The annotation tells the graph that new messages will always\n",
    "    # be added to the current states\n",
    "    messages: Annotated[Sequence[BaseMessage], operator.add]\n",
    "    # The 'next' field indicates where to route to next\n",
    "    next: str\n",
    "\n",
    "def create_agent(llm, system_message: str):\n",
    "    \"\"\"Create an agent.\"\"\"\n",
    "    prompt = ChatPromptTemplate.from_messages(\n",
    "        [\n",
    "            (\n",
    "                \"system\",\n",
    "                system_message\n",
    "            ),\n",
    "            MessagesPlaceholder(variable_name=\"messages\"),\n",
    "        ]\n",
    "    )\n",
    "    return prompt | llm\n",
    "\n",
    "technical_agent = create_agent(\n",
    "    llm,\n",
    "    system_message=\"You are an expert in technical issues and help with coding or technical problem solving.\"\n",
    ")\n",
    "technical_node = functools.partial(agent_node, agent=technical_agent, name=\"Technical Assistant\")\n",
    "\n",
    "\n",
    "financial_agent = create_agent(\n",
    "    llm,\n",
    "    system_message=\"You provide advice and insights on financial matters, including budgeting, investment, and expenses.\"\n",
    ")\n",
    "financial_node = functools.partial(agent_node, agent=financial_agent, name=\"Financial Advisor\")\n",
    "\n",
    "\n",
    "health_agent = create_agent(\n",
    "    llm,\n",
    "    system_message=\"You offer guidance on health, nutrition, and fitness-related topics.\"\n",
    ")\n",
    "health_node = functools.partial(agent_node, agent=health_agent, name=\"Health Expert\")\n",
    "\n",
    "\n",
    "mental_health_agent = create_agent(\n",
    "    llm,\n",
    "    system_message=\"You offer guidance on mental health, and psychology-related topics.\"\n",
    ")\n",
    "mental_health_node = functools.partial(agent_node, agent=mental_health_agent, name=\"Mental Health Guide\")\n",
    "\n",
    "\n",
    "travel_agent = create_agent(\n",
    "    llm,\n",
    "    system_message=\"You provide travel tips, itinerary suggestions, and destination recommendations.\"\n",
    ")\n",
    "travel_node = functools.partial(agent_node, agent=travel_agent, name=\"Travel Guide\")\n",
    "\n",
    "\n",
    "workflow = StateGraph(AgentState)\n",
    "workflow.add_node(\"Technical Assistant\", technical_node)\n",
    "workflow.add_node(\"Financial Advisor\", financial_node)\n",
    "workflow.add_node(\"Health Expert\", health_node)\n",
    "workflow.add_node(\"Mental Health Guide\", mental_health_node)\n",
    "workflow.add_node(\"Travel Guide\", travel_node)\n",
    "workflow.add_node(\"supervisor\", supervisor_agent)\n"
   ]
  },
  {
   "cell_type": "code",
   "execution_count": 6,
   "id": "a53f715a-8460-48d2-98dc-86f81942306d",
   "metadata": {},
   "outputs": [],
   "source": [
    "for member in members:\n",
    "    workflow.add_edge(member, \"supervisor\")\n",
    "# The supervisor populates the \"next\" field in the graph state\n",
    "# which routes to a node or finishes\n",
    "conditional_map = {k: k for k in members}\n",
    "conditional_map[\"FINISH\"] = END\n",
    "workflow.add_conditional_edges(\"supervisor\", lambda x: x[\"next\"], conditional_map)\n",
    "# Finally, add entrypoint\n",
    "workflow.add_edge(START, \"supervisor\")\n",
    "\n",
    "\n",
    "graph = workflow.compile(checkpointer=memory)"
   ]
  },
  {
   "cell_type": "code",
   "execution_count": 7,
   "id": "999c87aa-34c9-43e5-94a5-f8abeada6139",
   "metadata": {},
   "outputs": [
    {
     "data": {
      "image/jpeg": "[encoded data removed]",
      "text/plain": [
       "<IPython.core.display.Image object>"
      ]
     },
     "metadata": {},
     "output_type": "display_data"
    }
   ],
   "source": [
    "from IPython.display import Image, display\n",
    "display(Image(graph.get_graph().draw_mermaid_png()))"
   ]
  },
  {
   "cell_type": "code",
   "execution_count": null,
   "id": "226b7282-7aea-4445-8715-e744c4ec0114",
   "metadata": {},
   "outputs": [
    {
     "name": "stdin",
     "output_type": "stream",
     "text": [
      "USER:  i broke my arm\n"
     ]
    },
    {
     "name": "stdout",
     "output_type": "stream",
     "text": [
      "\n",
      "\n",
      "HEALTH EXPERT: I'm sorry to hear that! Here are some general steps you can take if you've broken your arm: \n",
      "\n",
      "1. **Immobilize the Arm:** If possible, use a splint or sling to immobilize the broken arm. This will help reduce movement and prevent further injury. \n",
      "\n",
      "2. **Ice the Injury:** Apply ice packs to the affected area to reduce swelling and pain. Make sure to wrap the ice pack in a thin towel or cloth to avoid direct contact with the skin. Apply ice for 20 minutes at a time, with breaks in between. \n",
      "\n",
      "3. **Seek Medical Attention:** It is important to see a doctor or go to an emergency room, especially if there is severe pain, swelling, or deformity. They will be able to properly diagnose the break, set the bone (if necessary), and provide a cast or other immobilization device. \n",
      "\n",
      "4. **Manage Pain:** Follow your doctor's instructions for taking pain medications. Over-the-counter pain relievers like ibuprofen or acetaminophen may be recommended to help manage pain and inflammation. \n",
      "\n",
      "5. **Elevate the Arm:** Keep your arm elevated above heart level, especially during the first few days after the injury. This will help reduce swelling. Use pillows or blankets to prop up your arm comfortably. \n",
      "\n",
      "6. **Follow-up Care:** Attend all recommended follow-up appointments with your doctor or orthopedic specialist. They will monitor your healing progress, adjust your cast or splint if needed, and provide guidance on physical therapy or rehabilitation exercises to restore strength and mobility to your arm. \n",
      "\n",
      "7. **Rest and Recovery:** Ensure you get plenty of rest and allow your body to heal. Modify your daily activities as needed to avoid putting weight or stress on your injured arm. \n",
      "\n",
      "Remember, it is always best to seek professional medical advice for a proper diagnosis and treatment plan. Each fracture is unique, and your doctor will provide specific instructions based on your individual case.\n",
      "\n",
      "----------------------------------------------------------------------------------------------------\n"
     ]
    }
   ],
   "source": [
    "config = {\"configurable\": {\"thread_id\": \"1\"}}\n",
    "while True:\n",
    "    user_input = input(\"USER: \")\n",
    "    if user_input.lower() in [\"quit\", \"exit\", \"q\"]:\n",
    "        print(\"Goodbye!\")\n",
    "        break\n",
    "\n",
    "    events = graph.stream(\n",
    "        {\"messages\": [(\"user\", user_input)]}, config\n",
    "    )\n",
    "    print(\"\\n\")\n",
    "    for event in events:\n",
    "        if 'supervisor' in event and event['supervisor']:\n",
    "            if event['supervisor']['next'] == \"FINISH\":\n",
    "                print('-'*100)\n",
    "            else:\n",
    "                print(f\"{event['supervisor']['next'].upper()}: \", end=\"\")\n",
    "        else:\n",
    "            for agent_name, agent_data in event.items():\n",
    "                if not agent_data:\n",
    "                    print(\"Something went wrong.\")\n",
    "                    break\n",
    "                for message in agent_data[\"messages\"]:\n",
    "                    print(f\"{message.content}\\n\")"
   ]
  },
  {
   "cell_type": "code",
   "execution_count": null,
   "id": "fbd74a59-a718-4e96-ae9f-187916b65154",
   "metadata": {},
   "outputs": [],
   "source": []
  }
 ],
 "metadata": {
  "kernelspec": {
   "display_name": "Python 3 (ipykernel)",
   "language": "python",
   "name": "python3"
  },
  "language_info": {
   "codemirror_mode": {
    "name": "ipython",
    "version": 3
   },
   "file_extension": ".py",
   "mimetype": "text/x-python",
   "name": "python",
   "nbconvert_exporter": "python",
   "pygments_lexer": "ipython3",
   "version": "3.12.3"
  }
 },
 "nbformat": 4,
 "nbformat_minor": 5
}
