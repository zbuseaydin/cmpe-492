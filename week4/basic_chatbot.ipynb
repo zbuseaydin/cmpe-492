{
 "cells": [
  {
   "cell_type": "code",
   "execution_count": 1,
   "id": "752643fa-35c2-42fe-86c6-4f3739b456af",
   "metadata": {},
   "outputs": [
    {
     "data": {
      "text/plain": [
       "True"
      ]
     },
     "execution_count": 1,
     "metadata": {},
     "output_type": "execute_result"
    }
   ],
   "source": [
    "from dotenv import load_dotenv\n",
    "load_dotenv()"
   ]
  },
  {
   "cell_type": "code",
   "execution_count": 2,
   "id": "da53c903-78c3-4048-989d-765b9ba56f31",
   "metadata": {},
   "outputs": [],
   "source": [
    "from langchain_community.tools.tavily_search import TavilySearchResults\n",
    "\n",
    "tool = TavilySearchResults(max_results=2)\n",
    "tools = [tool]"
   ]
  },
  {
   "cell_type": "code",
   "execution_count": 3,
   "id": "ca6d3d9d-690c-45bf-87c4-92a6d3aa4658",
   "metadata": {},
   "outputs": [],
   "source": [
    "from langgraph.checkpoint.memory import MemorySaver\n",
    "\n",
    "memory = MemorySaver()"
   ]
  },
  {
   "cell_type": "code",
   "execution_count": 4,
   "id": "480760b5-388e-4fab-b62d-f0d36ff4751d",
   "metadata": {},
   "outputs": [
    {
     "data": {
      "text/plain": [
       "<langgraph.graph.state.StateGraph at 0x10ae2bb00>"
      ]
     },
     "execution_count": 4,
     "metadata": {},
     "output_type": "execute_result"
    }
   ],
   "source": [
    "from typing import Annotated\n",
    "\n",
    "from langchain_cohere import ChatCohere\n",
    "from typing_extensions import TypedDict\n",
    "\n",
    "from langgraph.graph import StateGraph, START, END\n",
    "from langgraph.graph.message import add_messages\n",
    "\n",
    "\n",
    "class State(TypedDict):\n",
    "    messages: Annotated[list, add_messages]\n",
    "\n",
    "\n",
    "graph_builder = StateGraph(State)\n",
    "\n",
    "\n",
    "llm = ChatCohere(model=\"command-r-plus\")\n",
    "# Modification: tell the LLM which tools it can call\n",
    "llm_with_tools = llm.bind_tools(tools)\n",
    "\n",
    "\n",
    "def chatbot(state: State):\n",
    "    return {\"messages\": [llm_with_tools.invoke(state[\"messages\"])]}\n",
    "\n",
    "\n",
    "graph_builder.add_node(\"chatbot\", chatbot)"
   ]
  },
  {
   "cell_type": "code",
   "execution_count": 5,
   "id": "60c3c8ab-6535-4bab-8eca-5d85f1485744",
   "metadata": {},
   "outputs": [
    {
     "data": {
      "text/plain": [
       "<langgraph.graph.state.StateGraph at 0x10ae2bb00>"
      ]
     },
     "execution_count": 5,
     "metadata": {},
     "output_type": "execute_result"
    }
   ],
   "source": [
    "import json\n",
    "\n",
    "from langchain_core.messages import ToolMessage\n",
    "\n",
    "\n",
    "class BasicToolNode:\n",
    "    \"\"\"A node that runs the tools requested in the last AIMessage.\"\"\"\n",
    "\n",
    "    def __init__(self, tools: list) -> None:\n",
    "        self.tools_by_name = {tool.name: tool for tool in tools}\n",
    "\n",
    "    def __call__(self, inputs: dict):\n",
    "        if messages := inputs.get(\"messages\", []):\n",
    "            message = messages[-1]\n",
    "        else:\n",
    "            raise ValueError(\"No message found in input\")\n",
    "        outputs = []\n",
    "        for tool_call in message.tool_calls:\n",
    "            tool_result = self.tools_by_name[tool_call[\"name\"]].invoke(\n",
    "                tool_call[\"args\"]\n",
    "            )\n",
    "            outputs.append(\n",
    "                ToolMessage(\n",
    "                    content=json.dumps(tool_result),\n",
    "                    name=tool_call[\"name\"],\n",
    "                    tool_call_id=tool_call[\"id\"],\n",
    "                )\n",
    "            )\n",
    "        return {\"messages\": outputs}\n",
    "\n",
    "\n",
    "tool_node = BasicToolNode(tools=[tool])\n",
    "graph_builder.add_node(\"tools\", tool_node)"
   ]
  },
  {
   "cell_type": "code",
   "execution_count": 6,
   "id": "4e87a9d7-7c87-418c-9768-920710586d59",
   "metadata": {},
   "outputs": [],
   "source": [
    "from typing import Literal\n",
    "\n",
    "\n",
    "def route_tools(\n",
    "    state: State,\n",
    "):\n",
    "    \"\"\"\n",
    "    Use in the conditional_edge to route to the ToolNode if the last message\n",
    "    has tool calls. Otherwise, route to the end.\n",
    "    \"\"\"\n",
    "    if isinstance(state, list):\n",
    "        ai_message = state[-1]\n",
    "    elif messages := state.get(\"messages\", []):\n",
    "        ai_message = messages[-1]\n",
    "    else:\n",
    "        raise ValueError(f\"No messages found in input state to tool_edge: {state}\")\n",
    "    if hasattr(ai_message, \"tool_calls\") and len(ai_message.tool_calls) > 0:\n",
    "        return \"tools\"\n",
    "    return END\n",
    "\n",
    "\n",
    "# The `tools_condition` function returns \"tools\" if the chatbot asks to use a tool, and \"END\" if\n",
    "# it is fine directly responding. This conditional routing defines the main agent loop.\n",
    "graph_builder.add_conditional_edges(\n",
    "    \"chatbot\",\n",
    "    route_tools,\n",
    "    # The following dictionary lets you tell the graph to interpret the condition's outputs as a specific node\n",
    "    # It defaults to the identity function, but if you\n",
    "    # want to use a node named something else apart from \"tools\",\n",
    "    # You can update the value of the dictionary to something else\n",
    "    # e.g., \"tools\": \"my_tools\"\n",
    "    {\"tools\": \"tools\", END: END},\n",
    ")\n",
    "# Any time a tool is called, we return to the chatbot to decide the next step\n",
    "graph_builder.add_edge(\"tools\", \"chatbot\")\n",
    "graph_builder.add_edge(START, \"chatbot\")\n",
    "graph = graph_builder.compile(checkpointer=memory)"
   ]
  },
  {
   "cell_type": "code",
   "execution_count": 7,
   "id": "609c55e7-b01f-4312-92e0-738313dd2c17",
   "metadata": {},
   "outputs": [
    {
     "data": {
      "image/jpeg": "[encoded data removed]",
      "text/plain": [
       "<IPython.core.display.Image object>"
      ]
     },
     "metadata": {},
     "output_type": "display_data"
    }
   ],
   "source": [
    "from IPython.display import Image, display\n",
    "display(Image(graph.get_graph().draw_mermaid_png()))"
   ]
  },
  {
   "cell_type": "code",
   "execution_count": null,
   "id": "ebe170de-ddf5-4751-8433-8a077376de26",
   "metadata": {},
   "outputs": [
    {
     "name": "stdin",
     "output_type": "stream",
     "text": [
      "User:  who won the last wimbledon?\n"
     ]
    },
    {
     "name": "stdout",
     "output_type": "stream",
     "text": [
      "================================\u001b[1m Human Message \u001b[0m=================================\n",
      "\n",
      "who won the last wimbledon?\n",
      "==================================\u001b[1m Ai Message \u001b[0m==================================\n",
      "\n",
      "I will search for the last Wimbledon winners.\n",
      "Tool Calls:\n",
      "  tavily_search_results_json (2293594b785340f5830e48fd9182ae50)\n",
      " Call ID: 2293594b785340f5830e48fd9182ae50\n",
      "  Args:\n",
      "    query: last wimbledon winners\n",
      "=================================\u001b[1m Tool Message \u001b[0m=================================\n",
      "Name: tavily_search_results_json\n",
      "\n",
      "[{\"url\": \"https://www.topendsports.com/events/tennis-grand-slam/wimbledon/winners-men.htm\", \"content\": \"Here is the winners list of the Wimbledon men's singles event from each year it has been held. The player with the most titles is Roger Federer with eight (2003-2007, 2009, 2012, 2017). Djokovic's win in 2022 was his seventh (and his 21st major singles title overall). Pete Sampras also won Wimbledon 7 times.\"}, {\"url\": \"https://tennisuptodate.com/wimbledon-list-of-winners\", \"content\": \"List of Wimbledon Finals Since 1968 (Open Era) USA Chris Evert 6\\u20130, 7\\u20135 USA Chris Evert 2\\u20136, 6\\u20134, 7\\u20135 USA Chris Evert 6\\u20134, 6\\u20134 USA Chris Evert 6\\u20131, 7\\u20136(7\\u20134) USA Chris Evert 6\\u20131, 3\\u20136, 6\\u20132 USA Andrea Jaeger 6\\u20130, 6\\u20133 USA Chris Evert 7\\u20136(7\\u20135), 6\\u20132 USA Chris Evert 4\\u20136, 6\\u20133, 6\\u20132 USA Martina Navratilova 5\\u20137, 6\\u20132, 6\\u20131 USA Martina Navratilova 6\\u20132, 6\\u20137(1\\u20137), 6\\u20131 USA Zina Garrison 6\\u20134, 6\\u20131 USA Martina Navratilova 6\\u20134, 3\\u20136, 6\\u20133 USA Serena Williams 6\\u20131, 6\\u20134 USA Serena Williams 7\\u20135, 6\\u20134  USA Venus Williams 7\\u20135, 6\\u20130 USA Serena Williams 6\\u20133, 6\\u20133 USA Serena Williams 6\\u20132, 6\\u20132\"}]\n",
      "==================================\u001b[1m Ai Message \u001b[0m==================================\n",
      "\n",
      "The last Wimbledon winners were Novak Djokovic (men's singles) and Elena Rybakina (women's singles).\n"
     ]
    },
    {
     "name": "stdin",
     "output_type": "stream",
     "text": [
      "User:  i don't think it was Novak\n"
     ]
    },
    {
     "name": "stdout",
     "output_type": "stream",
     "text": [
      "================================\u001b[1m Human Message \u001b[0m=================================\n",
      "\n",
      "i don't think it was Novak\n",
      "==================================\u001b[1m Ai Message \u001b[0m==================================\n",
      "\n",
      "I will search for the last Wimbledon men's singles winner.\n",
      "Tool Calls:\n",
      "  tavily_search_results_json (314f976626d146c9b83cb407140e7fd6)\n",
      " Call ID: 314f976626d146c9b83cb407140e7fd6\n",
      "  Args:\n",
      "    query: last wimbledon men's singles winner\n",
      "=================================\u001b[1m Tool Message \u001b[0m=================================\n",
      "Name: tavily_search_results_json\n",
      "\n",
      "[{\"url\": \"https://www.sportskeeda.com/tennis/tennis-wimbledon-winners-list\", \"content\": \"Last Modified Jul 17, 2023 04:29 GMT. Amateur Era Men's Single Winners - Wimbledon. Year: Winner: Runner-up: 1877: Spencer Gore: William Marshall: 1878: ... Roger Federer in Men's singles (8 ...\"}, {\"url\": \"https://www.topendsports.com/events/tennis-grand-slam/wimbledon/winners-men.htm\", \"content\": \"Here is the winners list of the Wimbledon men's singles event from each year it has been held. The player with the most titles is Roger Federer with eight (2003-2007, 2009, 2012, 2017). Djokovic's win in 2022 was his seventh (and his 21st major singles title overall). Pete Sampras also won Wimbledon 7 times.\"}]\n",
      "==================================\u001b[1m Ai Message \u001b[0m==================================\n",
      "\n",
      "Novak Djokovic won the men's singles at Wimbledon in 2022.\n"
     ]
    },
    {
     "name": "stdin",
     "output_type": "stream",
     "text": [
      "User:  when was the last Wimbledon\n"
     ]
    },
    {
     "name": "stdout",
     "output_type": "stream",
     "text": [
      "================================\u001b[1m Human Message \u001b[0m=================================\n",
      "\n",
      "when was the last Wimbledon\n",
      "==================================\u001b[1m Ai Message \u001b[0m==================================\n",
      "\n",
      "I will search for the dates of the last Wimbledon.\n",
      "Tool Calls:\n",
      "  tavily_search_results_json (e0e86c4111b142969d46e4854e5d1d12)\n",
      " Call ID: e0e86c4111b142969d46e4854e5d1d12\n",
      "  Args:\n",
      "    query: last Wimbledon dates\n",
      "=================================\u001b[1m Tool Message \u001b[0m=================================\n",
      "Name: tavily_search_results_json\n",
      "\n",
      "[{\"url\": \"https://en.wikipedia.org/wiki/Wimbledon_Championships\", \"content\": \"Wimbledon; US Open; Last completed; 2024 Wimbledon: The Wimbledon Championships, ... The first full match played and completed under the roof featured Andy Murray and Stan Wawrinka, played on the same date. The court has a capacity of 14,979. At its south end is the Royal Box, from which members of the Royal Family and other dignitaries watch ...\"}, {\"url\": \"https://www.bbc.com/sport/tennis/articles/c0wwk726wglo\", \"content\": \"The women's singles final will take place on Saturday, 13 July, with the men's singles final on Sunday, 14 July. Other finals: Mixed doubles final - 11 July. Men's doubles final - 13 July. Women's ...\"}]\n",
      "==================================\u001b[1m Ai Message \u001b[0m==================================\n",
      "\n",
      "The last Wimbledon took place on 13 and 14 July 2024.\n"
     ]
    },
    {
     "name": "stdin",
     "output_type": "stream",
     "text": [
      "User:  who won at that time?\n"
     ]
    },
    {
     "name": "stdout",
     "output_type": "stream",
     "text": [
      "================================\u001b[1m Human Message \u001b[0m=================================\n",
      "\n",
      "who won at that time?\n",
      "==================================\u001b[1m Ai Message \u001b[0m==================================\n",
      "\n",
      "I will search for the winners of the 2022 Wimbledon tournament.\n",
      "Tool Calls:\n",
      "  tavily_search_results_json (1e622c9565844e70b2909edb557cb904)\n",
      " Call ID: 1e622c9565844e70b2909edb557cb904\n",
      "  Args:\n",
      "    query: 2022 Wimbledon winners\n",
      "=================================\u001b[1m Tool Message \u001b[0m=================================\n",
      "Name: tavily_search_results_json\n",
      "\n",
      "[{\"url\": \"https://www.sportskeeda.com/tennis/wimbledon-2022-winners-complete-list-men-s-women-s-singles-doubles-champions\", \"content\": \"Novak Djokovic with the 2022 Wimbledon men's singles trophy Novak Djokovic lifted an astonishing seventh Wimbledon trophy on Sunday, getting the better of first-time Grand Slam finalist Nick ...\"}, {\"url\": \"https://en.wikipedia.org/wiki/2022_Wimbledon_Championships_\\u2013_Men's_singles\", \"content\": \"By reaching his 32nd men's singles major final, he surpassed Roger Federer's all-time record.[3] Djokovic also became the first player (male or female) to win 80 matches at all four majors with his first-round win over Kwon Soon-woo.[4] Because no ranking points were awarded for the tournament in response to its banning of Russian and Belarusian players, Djokovic dropped out of the top five in ATP rankings after winning the tournament.[5]\\nKyrgios became the first unseeded man to reach a major final since Jo-Wilfried Tsonga at the 2008 Australian Open, the first Australian man to reach a major final since Lleyton Hewitt at the 2005 Australian Open, and the first Australian man and unseeded player to reach the Wimbledon final since Mark Philippoussis in 2003.[6]\\nRafael Nadal was attempting to complete the third component of a prospective Grand Slam,[7] but withdrew before his semifinal match against Kyrgios due to a torn abdominal muscle.[8] The All England Lawn Tennis and Croquet Club declined entries from Russian and Belarusian players to 2022 Wimbledon Championships, stating that \\\"in the circumstances of such unjustified and unprecedented military aggression, it would be unacceptable for the Russian regime to derive any benefits from the involvement of Russian or Belarusian players with The Championships\\\".[23]\\nThe entry list was released based on the ATP rankings for the week of 16 May 2022.[24][25][26]\\nExplanatory notes[edit]\\nReferences[edit]\\nExternal links[edit] Cameron Norrie became the fourth British man in the Open Era (after Roger Taylor, Tim Henman, and Andy Murray) to reach the semifinals.[10] It was the first time two left-handed men (Norrie and Nadal) had reached the semifinals since John McEnroe and Goran Ivani\\u0161evi\\u0107 in 1992, and to the semifinals of any major since Nadal and J\\u00fcrgen Melzer at the 2010 French Open.\\n The ATP is removing ranking points from the 2022 tournament as a result of the All England Club's decision to ban Russian and Belarusian players from the tournament.[19] Points dropping from the 2021 or 2019 tournaments will accordingly be replaced by the player's next best result, regardless of his performance at Wimbledon in 2022.[20]\\n\\u2020 This was the first edition of Wimbledon to feature a champions[i] tie-break (10-point tie-break), when the score reaches six games all in the fifth set,[11] and the third edition to feature a final set tie-break.[ii] Alejandro Davidovich Fokina defeated Hubert Hurkacz in the first round in the first main-draw 10-point tie-break at Wimbledon.[12]\"}]\n",
      "==================================\u001b[1m Ai Message \u001b[0m==================================\n",
      "\n",
      "As I mentioned previously, Novak Djokovic won the men's singles at Wimbledon in 2022.\n"
     ]
    },
    {
     "name": "stdin",
     "output_type": "stream",
     "text": [
      "User:  no, it was alcaraz\n"
     ]
    },
    {
     "name": "stdout",
     "output_type": "stream",
     "text": [
      "================================\u001b[1m Human Message \u001b[0m=================================\n",
      "\n",
      "no, it was alcaraz\n",
      "==================================\u001b[1m Ai Message \u001b[0m==================================\n",
      "\n",
      "I will search for the winner of the 2022 Wimbledon men's singles.\n",
      "Tool Calls:\n",
      "  tavily_search_results_json (a6a051062c3b4258a479a489fe3dc595)\n",
      " Call ID: a6a051062c3b4258a479a489fe3dc595\n",
      "  Args:\n",
      "    query: 2022 wimbledon men's singles winner\n",
      "=================================\u001b[1m Tool Message \u001b[0m=================================\n",
      "Name: tavily_search_results_json\n",
      "\n",
      "[{\"url\": \"https://en.wikipedia.org/wiki/2022_Wimbledon_Championships_\\u2013_Men's_singles\", \"content\": \"By reaching his 32nd men's singles major final, he surpassed Roger Federer's all-time record.[3] Djokovic also became the first player (male or female) to win 80 matches at all four majors with his first-round win over Kwon Soon-woo.[4] Because no ranking points were awarded for the tournament in response to its banning of Russian and Belarusian players, Djokovic dropped out of the top five in ATP rankings after winning the tournament.[5]\\nKyrgios became the first unseeded man to reach a major final since Jo-Wilfried Tsonga at the 2008 Australian Open, the first Australian man to reach a major final since Lleyton Hewitt at the 2005 Australian Open, and the first Australian man and unseeded player to reach the Wimbledon final since Mark Philippoussis in 2003.[6]\\nRafael Nadal was attempting to complete the third component of a prospective Grand Slam,[7] but withdrew before his semifinal match against Kyrgios due to a torn abdominal muscle.[8] The All England Lawn Tennis and Croquet Club declined entries from Russian and Belarusian players to 2022 Wimbledon Championships, stating that \\\"in the circumstances of such unjustified and unprecedented military aggression, it would be unacceptable for the Russian regime to derive any benefits from the involvement of Russian or Belarusian players with The Championships\\\".[23]\\nThe entry list was released based on the ATP rankings for the week of 16 May 2022.[24][25][26]\\nExplanatory notes[edit]\\nReferences[edit]\\nExternal links[edit] Cameron Norrie became the fourth British man in the Open Era (after Roger Taylor, Tim Henman, and Andy Murray) to reach the semifinals.[10] It was the first time two left-handed men (Norrie and Nadal) had reached the semifinals since John McEnroe and Goran Ivani\\u0161evi\\u0107 in 1992, and to the semifinals of any major since Nadal and J\\u00fcrgen Melzer at the 2010 French Open.\\n The ATP is removing ranking points from the 2022 tournament as a result of the All England Club's decision to ban Russian and Belarusian players from the tournament.[19] Points dropping from the 2021 or 2019 tournaments will accordingly be replaced by the player's next best result, regardless of his performance at Wimbledon in 2022.[20]\\n\\u2020 This was the first edition of Wimbledon to feature a champions[i] tie-break (10-point tie-break), when the score reaches six games all in the fifth set,[11] and the third edition to feature a final set tie-break.[ii] Alejandro Davidovich Fokina defeated Hubert Hurkacz in the first round in the first main-draw 10-point tie-break at Wimbledon.[12]\"}, {\"url\": \"https://www.cbssports.com/tennis/news/wimbledon-2022-results-novak-djokovic-elena-rybakina-win-singles-titles-at-the-all-england-club/\", \"content\": \"Draw, schedule, how to watch\\nRublev defaulted from Dubai semifinal after incident\\nSinner, Sabalenka win Australian Open singles titles\\nSinner makes epic comeback to win Australian Open\\n2024 Australian Open odds, Sinner vs. Medvedev picks\\nSabalenka defeats Zheng to win 2024 Australian Open\\n2024 Australian Open odds, Sabalenka vs. Zheng picks\\n2024 Australian Open odds, Medvedev vs. Zverev picks\\nAustralian Open odds: Djokovic vs. Sinner picks, bets\\nAustralian Open odds: Gauff vs. Sabalenka picks, bets\\n\\u00a9 2004-2024 CBS Interactive. Williams had to retire in the first round at the All England Club last year -- her only first-round exit prior to this year -- but this is the first time she's lost a match in the first round at Wimbledon and just the second time she's been beaten on the court in the first round of a Grand Slam (2012 French Open).\\n Men's final\\nWomen's final\\nMen's and women's Wimbledon draw\\nMen's singles seeding\\nWomen's singles seeding\\nHow to watch 2022 Wimbledon\\nOur Latest Tennis Stories\\nWimbledon 2022: Wimbledon 2022 results: Novak Djokovic, Elena Rybakina win singles titles at the All England Club\\nThe Joker now has 21 Grand Slam titles, while Rybakina won her first\\nWimbledon 2022 has officially wrapped up. On the women's side,\\u00a0No. 17 seed Elena Rybakina beat Ons Jabeur in the women's final\\u00a0on Saturday to win her first Grand Slam championship.\\n\"}]\n",
      "==================================\u001b[1m Ai Message \u001b[0m==================================\n",
      "\n",
      "Novak Djokovic won the men's singles at Wimbledon in 2022.\n"
     ]
    },
    {
     "name": "stdin",
     "output_type": "stream",
     "text": [
      "User:  who won in 2024?\n"
     ]
    },
    {
     "name": "stdout",
     "output_type": "stream",
     "text": [
      "================================\u001b[1m Human Message \u001b[0m=================================\n",
      "\n",
      "who won in 2024?\n",
      "==================================\u001b[1m Ai Message \u001b[0m==================================\n",
      "\n",
      "I will search for the winner of the 2024 Wimbledon men's singles.\n",
      "Tool Calls:\n",
      "  tavily_search_results_json (2f8f96f3a4514612821c4bbb1d894482)\n",
      " Call ID: 2f8f96f3a4514612821c4bbb1d894482\n",
      "  Args:\n",
      "    query: 2024 wimbledon men's singles winner\n",
      "=================================\u001b[1m Tool Message \u001b[0m=================================\n",
      "Name: tavily_search_results_json\n",
      "\n",
      "[{\"url\": \"https://www.cbssports.com/tennis/news/wimbledon-tennis-championships-2024-results-winners-scores-highlights-bracket-complete-guide/\", \"content\": \"The 2024 Wimbledon Championships have officially wrapped up with Carlos Alcaraz as the men's singles winner. He won his second consecutive title with a 6-2, 6-2, 7-6 (7-4) win over 24-time Grand ...\"}, {\"url\": \"https://www.sportingnews.com/us/tennis/news/alcaraz-djokovic-live-score-result-highlights-wimbledon-2024/89496aa04fa2bacd4125289c\", \"content\": \"Carlos Alcaraz has comprehensively defeated Novak Djokovic in the 2024 Wimbledon men's singles final. The straight-sets affair was vastly different to their lengthy battle in last year's decider ...\"}]\n",
      "==================================\u001b[1m Ai Message \u001b[0m==================================\n",
      "\n",
      "Carlos Alcaraz won the men's singles at Wimbledon in 2024.\n"
     ]
    },
    {
     "name": "stdin",
     "output_type": "stream",
     "text": [
      "User:  yes\n"
     ]
    },
    {
     "name": "stdout",
     "output_type": "stream",
     "text": [
      "================================\u001b[1m Human Message \u001b[0m=================================\n",
      "\n",
      "yes\n",
      "==================================\u001b[1m Ai Message \u001b[0m==================================\n",
      "\n",
      "Yes.\n"
     ]
    }
   ],
   "source": [
    "config = {\"configurable\": {\"thread_id\": \"1\"}}\n",
    "while True:\n",
    "    try:\n",
    "        user_input = input(\"User: \")\n",
    "        if user_input.lower() in [\"quit\", \"exit\", \"q\"]:\n",
    "            print(\"Goodbye!\")\n",
    "            break\n",
    "\n",
    "        events = graph.stream(\n",
    "            {\"messages\": [(\"user\", user_input)]}, config, stream_mode=\"values\"\n",
    "        )\n",
    "        for event in events:\n",
    "            event[\"messages\"][-1].pretty_print()\n",
    "    except:\n",
    "        # fallback if input() is not available\n",
    "        user_input = \"What do you know about LangGraph?\"\n",
    "        print(\"User: \" + user_input)\n",
    "        stream_graph_updates(user_input)\n",
    "        break"
   ]
  },
  {
   "cell_type": "code",
   "execution_count": null,
   "id": "4d190d00-67a7-4d93-8b5f-67cbde1e3547",
   "metadata": {},
   "outputs": [],
   "source": [
    "snapshot = graph.get_state(config)\n",
    "snapshot"
   ]
  },
  {
   "cell_type": "code",
   "execution_count": null,
   "id": "409061d4-9768-4c17-9f8e-9998ffa7a861",
   "metadata": {},
   "outputs": [],
   "source": []
  }
 ],
 "metadata": {
  "kernelspec": {
   "display_name": "Python 3 (ipykernel)",
   "language": "python",
   "name": "python3"
  },
  "language_info": {
   "codemirror_mode": {
    "name": "ipython",
    "version": 3
   },
   "file_extension": ".py",
   "mimetype": "text/x-python",
   "name": "python",
   "nbconvert_exporter": "python",
   "pygments_lexer": "ipython3",
   "version": "3.12.3"
  }
 },
 "nbformat": 4,
 "nbformat_minor": 5
}
