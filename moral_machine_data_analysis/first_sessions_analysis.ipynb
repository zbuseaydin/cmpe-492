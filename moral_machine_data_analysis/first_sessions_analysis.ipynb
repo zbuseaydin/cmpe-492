{
 "cells": [
  {
   "cell_type": "code",
   "execution_count": null,
   "id": "a729c187-98ed-4cc1-ae30-96e3b98e5229",
   "metadata": {},
   "outputs": [],
   "source": [
    "import pandas as pd\n",
    "\n",
    "first_sessions_file_path = '/Users/buseaydin/Desktop/492/moral machine/Datasets/Moral Machine Data/SharedResponsesFullFirstSessions.csv'\n",
    "first_sessions_chunks = pd.read_csv(first_sessions_file_path, chunksize=chunk_size, low_memory=False)\n",
    "\n",
    "# Example: Combine chunks into a DataFrame (optional)\n",
    "first_sessions_df = pd.concat(first_sessions_chunks, ignore_index=True)\n",
    "\n",
    "first_sessions_column_names = first_sessions_df.columns.tolist()\n",
    "print(\"Column Names:\", first_sessions_column_names)\n",
    "\n",
    "# Get the total number of rows\n",
    "first_sessions_total_rows = len(first_sessions_df)\n",
    "print(\"Total Number of Rows:\", first_sessions_total_rows)\n",
    "\n",
    "sorted_first_sessions = first_sessions_df.sort_values(by='ResponseID')"
   ]
  },
  {
   "cell_type": "code",
   "execution_count": null,
   "id": "1897b186-ded5-45c1-9053-e9a8d03654e1",
   "metadata": {},
   "outputs": [],
   "source": [
    "sorted_first_sessions"
   ]
  },
  {
   "cell_type": "code",
   "execution_count": null,
   "id": "35857fc8-6073-4069-9ff5-1e9226f6a47c",
   "metadata": {},
   "outputs": [],
   "source": [
    "# Count occurrences of each 'ResponseID'\n",
    "first_sessions_response_counts = sorted_first_sessions['ResponseID'].value_counts()\n",
    "\n",
    "# Filter 'ResponseID' values with exactly 2 occurrences\n",
    "first_sessions_valid_responses = first_sessions_response_counts[first_sessions_response_counts == 2].index\n",
    "\n",
    "# Filter the DataFrame to keep only rows with 'ResponseID' that have exactly 2 occurrences\n",
    "sorted_filtered_first_sessions = sorted_first_sessions[sorted_first_sessions['ResponseID'].isin(first_sessions_valid_responses)]"
   ]
  },
  {
   "cell_type": "code",
   "execution_count": null,
   "id": "84f69960-d503-40b5-a7a8-f72c7062d6e3",
   "metadata": {},
   "outputs": [],
   "source": [
    "sorted_filtered_first_sessions"
   ]
  },
  {
   "cell_type": "code",
   "execution_count": null,
   "id": "19d4a4d0-92bf-4484-a5fb-942db467cba5",
   "metadata": {},
   "outputs": [],
   "source": [
    "sorted_filtered_first_sessions.to_parquet('sorted_filtered_first_sessions.parquet')\n",
    "# Load later\n",
    "#sorted_df = pd.read_parquet('sorted_filtered_first_sessions.parquet')"
   ]
  }
 ],
 "metadata": {
  "kernelspec": {
   "display_name": "Python 3 (ipykernel)",
   "language": "python",
   "name": "python3"
  },
  "language_info": {
   "name": ""
  }
 },
 "nbformat": 4,
 "nbformat_minor": 5
}
