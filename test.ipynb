{
 "cells": [
  {
   "cell_type": "code",
   "execution_count": 1,
   "metadata": {},
   "outputs": [],
   "source": [
    "import getpass\n",
    "import os\n",
    "from dotenv import load_dotenv\n",
    "\n",
    "\n",
    "def _set_if_undefined(var: str):\n",
    "    if not os.environ.get(var):\n",
    "        os.environ[var] = getpass.getpass(f\"Please provide your {var}\")\n",
    "\n",
    "load_dotenv()\n",
    "\n",
    "_set_if_undefined(\"OPENAI_API_KEY\")\n",
    "_set_if_undefined(\"TAVILY_API_KEY\")"
   ]
  },
  {
   "cell_type": "code",
   "execution_count": 2,
   "metadata": {},
   "outputs": [],
   "source": [
    "from langchain_core.messages import (\n",
    "    BaseMessage,\n",
    "    HumanMessage,\n",
    "    ToolMessage,\n",
    ")\n",
    "from langchain_core.prompts import ChatPromptTemplate, MessagesPlaceholder\n",
    "\n",
    "from langgraph.graph import END, StateGraph, START\n",
    "\n",
    "\n",
    "def create_agent(llm, tools, system_message: str):\n",
    "    \"\"\"Create an agent.\"\"\"\n",
    "    prompt = ChatPromptTemplate.from_messages(\n",
    "        [\n",
    "            (\n",
    "                \"system\",\n",
    "                \"You are a helpful AI assistant, collaborating with other assistants.\"\n",
    "                \" Use the provided tools to progress towards answering the question.\"\n",
    "                \" If you are unable to fully answer, that's OK, another assistant with different tools \"\n",
    "                \" will help where you left off. Execute what you can to make progress.\"\n",
    "                \" If you or any of the other assistants have the final answer or deliverable,\"\n",
    "                \" prefix your response with FINAL ANSWER so the team knows to stop.\"\n",
    "                \" You have access to the following tools: {tool_names}.\\n{system_message}\",\n",
    "            ),\n",
    "            MessagesPlaceholder(variable_name=\"messages\"),\n",
    "        ]\n",
    "    )\n",
    "    prompt = prompt.partial(system_message=system_message)\n",
    "    prompt = prompt.partial(tool_names=\", \".join([tool.name for tool in tools]))\n",
    "    return prompt | llm.bind_tools(tools)"
   ]
  },
  {
   "cell_type": "code",
   "execution_count": 4,
   "metadata": {},
   "outputs": [],
   "source": [
    "from typing import Annotated\n",
    "\n",
    "from langchain_community.tools.tavily_search import TavilySearchResults\n",
    "\n",
    "tavily_tool = TavilySearchResults(max_results=5)"
   ]
  },
  {
   "cell_type": "code",
   "execution_count": 5,
   "metadata": {},
   "outputs": [],
   "source": [
    "import operator\n",
    "from typing import Annotated, Sequence\n",
    "from typing_extensions import TypedDict\n",
    "\n",
    "from langchain_openai import ChatOpenAI\n",
    "\n",
    "\n",
    "# This defines the object that is passed between each node\n",
    "# in the graph. We will create different nodes for each agent and tool\n",
    "class AgentState(TypedDict):\n",
    "    messages: Annotated[Sequence[BaseMessage], operator.add]\n",
    "    sender: str"
   ]
  },
  {
   "cell_type": "code",
   "execution_count": 6,
   "metadata": {},
   "outputs": [],
   "source": [
    "import functools\n",
    "\n",
    "from langchain_core.messages import AIMessage\n",
    "\n",
    "\n",
    "# Helper function to create a node for a given agent\n",
    "def agent_node(state, agent, name):\n",
    "    result = agent.invoke(state)\n",
    "    # We convert the agent output into a format that is suitable to append to the global state\n",
    "    if isinstance(result, ToolMessage):\n",
    "        pass\n",
    "    else:\n",
    "        result = AIMessage(**result.dict(exclude={\"type\", \"name\"}), name=name)\n",
    "    return {\n",
    "        \"messages\": [result],\n",
    "        # Since we have a strict workflow, we can\n",
    "        # track the sender so we know who to pass to next.\n",
    "        \"sender\": name,\n",
    "    }\n",
    "\n",
    "\n",
    "llm = ChatOpenAI(model=\"gpt-4o-mini\")\n",
    "\n",
    "# Research agent and node\n",
    "travel_agent = create_agent(\n",
    "    llm,\n",
    "    [tavily_tool],\n",
    "    system_message=\"You should provide information related to museums, travel guides etc. to the user. if the user asks about restaurants, foods or related questions, provide accurate data for the chef_agent to use.\",\n",
    ")\n",
    "travel_node = functools.partial(agent_node, agent=travel_agent, name=\"travel_agent\")\n",
    "\n",
    "# chart_generator\n",
    "chef_agent = create_agent(\n",
    "    llm,\n",
    "    [tavily_tool],\n",
    "    system_message=\"You are an expert chef that knows everything about recipes, best restaurants and meals ingredients. You give users anything that is related with foods, restaurants and cuisines\",\n",
    ")\n",
    "chef_node = functools.partial(agent_node, agent=chef_agent, name=\"chef_agent\")\n"
   ]
  },
  {
   "cell_type": "code",
   "execution_count": 7,
   "metadata": {},
   "outputs": [],
   "source": [
    "from langgraph.prebuilt import ToolNode\n",
    "\n",
    "tools = [tavily_tool]\n",
    "tool_node = ToolNode(tools)"
   ]
  },
  {
   "cell_type": "code",
   "execution_count": 8,
   "metadata": {},
   "outputs": [],
   "source": [
    "# Either agent can decide to end\n",
    "from typing import Literal\n",
    "\n",
    "\n",
    "def router(state):\n",
    "    # This is the router\n",
    "    messages = state[\"messages\"]\n",
    "    last_message = messages[-1]\n",
    "    if last_message.tool_calls:\n",
    "        # The previous agent is invoking a tool\n",
    "        return \"call_tool\"\n",
    "    if \"FINAL ANSWER\" in last_message.content:\n",
    "        # Any agent decided the work is done\n",
    "        return END\n",
    "    return \"continue\""
   ]
  },
  {
   "cell_type": "code",
   "execution_count": 9,
   "metadata": {},
   "outputs": [],
   "source": [
    "workflow = StateGraph(AgentState)\n",
    "\n",
    "workflow.add_node(\"travel_agent\", travel_node)\n",
    "workflow.add_node(\"chef_agent\", chef_node)\n",
    "workflow.add_node(\"call_tool\", tool_node)\n",
    "\n",
    "workflow.add_conditional_edges(\n",
    "    \"travel_agent\",\n",
    "    router,\n",
    "    {\"continue\": \"chef_agent\", \"call_tool\": \"call_tool\", END: END},\n",
    ")\n",
    "workflow.add_conditional_edges(\n",
    "    \"chef_agent\",\n",
    "    router,\n",
    "    {\"continue\": \"travel_agent\", \"call_tool\": \"call_tool\", END: END},\n",
    ")\n",
    "\n",
    "workflow.add_conditional_edges(\n",
    "    \"call_tool\",\n",
    "    # Each agent node updates the 'sender' field\n",
    "    # the tool calling node does not, meaning\n",
    "    # this edge will route back to the original agent\n",
    "    # who invoked the tool\n",
    "    lambda x: x[\"sender\"],\n",
    "    {\n",
    "        \"travel_agent\": \"travel_agent\",\n",
    "        \"chef_agent\": \"chef_agent\",\n",
    "    },\n",
    ")\n",
    "workflow.add_edge(START, \"travel_agent\")\n",
    "graph = workflow.compile()"
   ]
  },
  {
   "cell_type": "code",
   "execution_count": 10,
   "metadata": {},
   "outputs": [
    {
     "data": {
      "image/jpeg": "[encoded data removed]",
      "text/plain": [
       "<IPython.core.display.Image object>"
      ]
     },
     "metadata": {},
     "output_type": "display_data"
    }
   ],
   "source": [
    "from IPython.display import Image, display\n",
    "\n",
    "try:\n",
    "    display(Image(graph.get_graph(xray=True).draw_mermaid_png()))\n",
    "except Exception:\n",
    "    # This requires some extra dependencies and is optional\n",
    "    pass"
   ]
  },
  {
   "cell_type": "code",
   "execution_count": 11,
   "metadata": {},
   "outputs": [
    {
     "name": "stdout",
     "output_type": "stream",
     "text": [
      "{'travel_agent': {'messages': [AIMessage(content='', additional_kwargs={'tool_calls': [{'id': 'call_K2jcTgBLgM4dXs9dJU1zd2rt', 'function': {'arguments': '{\"query\": \"best 5 star seafood restaurants in Rome\"}', 'name': 'tavily_search_results_json'}, 'type': 'function'}, {'id': 'call_p79ds7Cx907f4scszbEUeZDC', 'function': {'arguments': '{\"query\": \"Rome travel guide\"}', 'name': 'tavily_search_results_json'}, 'type': 'function'}], 'refusal': None}, response_metadata={'token_usage': {'completion_tokens': 61, 'prompt_tokens': 239, 'total_tokens': 300, 'completion_tokens_details': {'audio_tokens': None, 'reasoning_tokens': 0}, 'prompt_tokens_details': {'audio_tokens': None, 'cached_tokens': 0}}, 'model_name': 'gpt-4o-mini-2024-07-18', 'system_fingerprint': 'fp_f85bea6784', 'finish_reason': 'tool_calls', 'logprobs': None}, name='travel_agent', id='run-f626c575-c8fe-4bd2-8db7-762a6c31eb61-0', tool_calls=[{'name': 'tavily_search_results_json', 'args': {'query': 'best 5 star seafood restaurants in Rome'}, 'id': 'call_K2jcTgBLgM4dXs9dJU1zd2rt', 'type': 'tool_call'}, {'name': 'tavily_search_results_json', 'args': {'query': 'Rome travel guide'}, 'id': 'call_p79ds7Cx907f4scszbEUeZDC', 'type': 'tool_call'}], usage_metadata={'input_tokens': 239, 'output_tokens': 61, 'total_tokens': 300, 'input_token_details': {'cache_read': 0}, 'output_token_details': {'reasoning': 0}})], 'sender': 'travel_agent'}}\n",
      "----\n",
      "{'call_tool': {'messages': [ToolMessage(content='[{\"url\": \"https://wheretogoin.net/the-best-seafood-restaurants-in-rome/\", \"content\": \"Seafood restaurants in Rome\\'s Campo de\\'Fiori: Pierluigi. Seafood restaurants in Rome\\'s Trieste: Dar Sor Duilio. Seafood restaurants in Rome\\'s Trastevere: Le Mani in Pasta. Seafood restaurants in Rome\\'s Prati: Banchina 63. Seafood restaurants in Rome\\'s EUR: Livello 1. Seafood restaurants at the Colosseum: Il Tempio di Iside.\"}, {\"url\": \"https://romelist.com/seafood/\", \"content\": \"Sa Tanca Crostaceria is a renowned seafood restaurant located in Rome, Italy. The restaurant offers a range of services and features that cater to different preferences. Customers can enjoy a cosy, romantic, and upmarket dining atmosphere with options for dine-in and reservations.The menu includes dishes like tuna fillet with caper, octopus salad with orange, and a variety of seafood options.\"}, {\"url\": \"https://seafoodslurps.com/best-seafood-in-rome\", \"content\": \"Crab Fish Restaurant truly lives up to its name, offering some of the best seafood in Rome. You might also want to check out the best seafood in Cabo San Lucas. La Pesceria Barberini. 🗺️ Via di S. Nicola da Tolentino, 23, 00187 Roma RM, Italy. ☎️ +39 06 4290 3789.\"}, {\"url\": \"https://romelist.com/seafood-restaurant/\", \"content\": \"Ristorante Il Tempio di Iside is a renowned seafood restaurant in Rome that offers a delightful dining experience. With a rating of 4.4 based on 1091 reviews, this restaurant is known for its exceptional service and delectable seafood dishes.Customers rave about the unique samplers, seafood risotto, and pasta dishes served here. The atmosphere is described as cozy, romantic, and upmarket ...\"}, {\"url\": \"https://romelist.com/fish-restaurant/\", \"content\": \"Sa Tanca Crostaceria is a renowned seafood restaurant located in Rome, Italy. The restaurant offers a variety of service options including dine-in.The atmosphere is described as cosy, romantic, and upmarket, making it perfect for a special dining experience.. With a rating of 4.6 based on 1081 reviews, it\\'s evident that customers have had a memorable time at Sa Tanca Crostaceria.\"}]', name='tavily_search_results_json', tool_call_id='call_K2jcTgBLgM4dXs9dJU1zd2rt', artifact={'query': 'best 5 star seafood restaurants in Rome', 'follow_up_questions': None, 'answer': None, 'images': [], 'results': [{'title': 'The best seafood restaurants in Rome | Where To Go In', 'url': 'https://wheretogoin.net/the-best-seafood-restaurants-in-rome/', 'content': \"Seafood restaurants in Rome's Campo de'Fiori: Pierluigi. Seafood restaurants in Rome's Trieste: Dar Sor Duilio. Seafood restaurants in Rome's Trastevere: Le Mani in Pasta. Seafood restaurants in Rome's Prati: Banchina 63. Seafood restaurants in Rome's EUR: Livello 1. Seafood restaurants at the Colosseum: Il Tempio di Iside.\", 'score': 0.997917, 'raw_content': None}, {'title': 'The 15 Best Seafood Restaurants in Rome, Italy | RomeList', 'url': 'https://romelist.com/seafood/', 'content': 'Sa Tanca Crostaceria is a renowned seafood restaurant located in Rome, Italy. The restaurant offers a range of services and features that cater to different preferences. Customers can enjoy a cosy, romantic, and upmarket dining atmosphere with options for dine-in and reservations.The menu includes dishes like tuna fillet with caper, octopus salad with orange, and a variety of seafood options.', 'score': 0.99453074, 'raw_content': None}, {'title': \"Rome's Best Seafood [Updated 2024] - SeafoodSlurps\", 'url': 'https://seafoodslurps.com/best-seafood-in-rome', 'content': 'Crab Fish Restaurant truly lives up to its name, offering some of the best seafood in Rome. You might also want to check out the best seafood in Cabo San Lucas. La Pesceria Barberini. 🗺️ Via di S. Nicola da Tolentino, 23, 00187 Roma RM, Italy. ☎️ +39 06 4290 3789.', 'score': 0.9923934, 'raw_content': None}, {'title': 'The 15 Best Seafood Restaurants in Rome | RomeList', 'url': 'https://romelist.com/seafood-restaurant/', 'content': 'Ristorante Il Tempio di Iside is a renowned seafood restaurant in Rome that offers a delightful dining experience. With a rating of 4.4 based on 1091 reviews, this restaurant is known for its exceptional service and delectable seafood dishes.Customers rave about the unique samplers, seafood risotto, and pasta dishes served here. The atmosphere is described as cozy, romantic, and upmarket ...', 'score': 0.9822196, 'raw_content': None}, {'title': 'The 15 Best Fish Restaurants in Rome - RomeList', 'url': 'https://romelist.com/fish-restaurant/', 'content': \"Sa Tanca Crostaceria is a renowned seafood restaurant located in Rome, Italy. The restaurant offers a variety of service options including dine-in.The atmosphere is described as cosy, romantic, and upmarket, making it perfect for a special dining experience.. With a rating of 4.6 based on 1081 reviews, it's evident that customers have had a memorable time at Sa Tanca Crostaceria.\", 'score': 0.9754836, 'raw_content': None}], 'response_time': 2.15}), ToolMessage(content='[{\"url\": \"https://www.lonelyplanet.com/italy/rome\", \"content\": \"Discover Rome\\'s rich history, art and culture with Lonely Planet\\'s comprehensive guide. Find the best time to visit, the top things to do, the free attractions, the best neighborhoods and more.\"}, {\"url\": \"https://www.travelandleisure.com/rome-travel-guide-8426023\", \"content\": \"Discover the best hotels, restaurants, attractions, and activities in Rome, according to Rome residents and travel advisors. Learn how to plan an unforgettable trip to the Eternal City, from art and architecture to nightlife and shopping.\"}, {\"url\": \"https://www.cntraveler.com/destinations/rome\", \"content\": \"Find the best hotels, restaurants, attractions, and activities in Rome, the Eternal City. Explore the ancient and Renaissance monuments, the vibrant neighborhoods, the culinary scene, and the cultural events with our expert advice and recommendations.\"}, {\"url\": \"https://www.rome.net/\", \"content\": \"Find out why Rome is the 3rd most visited city in Europe and the 14th worldwide. Explore its history, monuments, cuisine, and attractions with this comprehensive guide and book tickets for tours, concerts, and events.\"}, {\"url\": \"https://www.savoringitaly.com/rome-italy/\", \"content\": \"3 Days in Rome: Three days hit the big spots. You\\'ll see the Colosseum, Vatican City, St. Peter\\'s, and the Roman Forum. Dive into the food and culture. 4-5 Days in Rome: Four or five days let you chill and dig deeper. Wander Trastevere, check out the Borghese Gallery, and take it slow.\"}]', name='tavily_search_results_json', tool_call_id='call_p79ds7Cx907f4scszbEUeZDC', artifact={'query': 'Rome travel guide', 'follow_up_questions': None, 'answer': None, 'images': [], 'results': [{'title': 'Experience Rome - Lonely Planet | Lazio, Italy, Europe', 'url': 'https://www.lonelyplanet.com/italy/rome', 'content': \"Discover Rome's rich history, art and culture with Lonely Planet's comprehensive guide. Find the best time to visit, the top things to do, the free attractions, the best neighborhoods and more.\", 'score': 0.99373454, 'raw_content': None}, {'title': 'How to Plan an Unforgettable Trip to Rome, According to Local ... - Travel', 'url': 'https://www.travelandleisure.com/rome-travel-guide-8426023', 'content': 'Discover the best hotels, restaurants, attractions, and activities in Rome, according to Rome residents and travel advisors. Learn how to plan an unforgettable trip to the Eternal City, from art and architecture to nightlife and shopping.', 'score': 0.9893063, 'raw_content': None}, {'title': 'Rome Travel Guide & Tips - Condé Nast Traveler', 'url': 'https://www.cntraveler.com/destinations/rome', 'content': 'Find the best hotels, restaurants, attractions, and activities in Rome, the Eternal City. Explore the ancient and Renaissance monuments, the vibrant neighborhoods, the culinary scene, and the cultural events with our expert advice and recommendations.', 'score': 0.9817707, 'raw_content': None}, {'title': 'Rome Tourism and Travel Guide - Visitors Travel Guide', 'url': 'https://www.rome.net/', 'content': 'Find out why Rome is the 3rd most visited city in Europe and the 14th worldwide. Explore its history, monuments, cuisine, and attractions with this comprehensive guide and book tickets for tours, concerts, and events.', 'score': 0.98024315, 'raw_content': None}, {'title': '39+ Best Things to Do in Rome, Italy (2024 Travel Guide) - Savoring Italy', 'url': 'https://www.savoringitaly.com/rome-italy/', 'content': \"3 Days in Rome: Three days hit the big spots. You'll see the Colosseum, Vatican City, St. Peter's, and the Roman Forum. Dive into the food and culture. 4-5 Days in Rome: Four or five days let you chill and dig deeper. Wander Trastevere, check out the Borghese Gallery, and take it slow.\", 'score': 0.98024315, 'raw_content': None}], 'response_time': 2.31})]}}\n",
      "----\n",
      "{'travel_agent': {'messages': [AIMessage(content='Here are two highly-rated seafood restaurants in Rome that you can visit, along with a suggested route to explore them:\\n\\n### Recommended Seafood Restaurants\\n\\n1. **Il Tempio di Iside**\\n   - **Rating**: 4.4/5\\n   - **Description**: Known for its exceptional service and delectable seafood dishes, including unique samplers and seafood risotto.\\n   - **Location**: Near the Colosseum.\\n   - **More Info**: [Il Tempio di Iside](https://romelist.com/seafood-restaurant/)\\n\\n2. **Sa Tanca Crostaceria**\\n   - **Rating**: 4.6/5\\n   - **Description**: Offers a cozy and romantic atmosphere, perfect for special dining. Known for dishes like tuna fillet with caper and octopus salad with orange.\\n   - **Location**: Central Rome.\\n   - **More Info**: [Sa Tanca Crostaceria](https://romelist.com/fish-restaurant/)\\n\\n### Suggested Route\\n\\n1. **Start at Il Tempio di Iside**\\n   - Address: Near the Colosseum, you can enjoy a delightful lunch or dinner here.\\n   - Explore the Colosseum and surrounding area after your meal.\\n\\n2. **Walk to Sa Tanca Crostaceria**\\n   - From Il Tempio di Iside, it’s about a 20-25 minute walk or a quick taxi ride to Sa Tanca Crostaceria.\\n   - Have dinner at Sa Tanca Crostaceria to end your day on a high note.\\n\\n### Additional Notes\\n- Make sure to check the opening hours and consider making reservations, especially for dinner.\\n- Enjoy the beautiful sights of Rome as you walk between these two locations!\\n\\nFor more information about traveling in Rome, you can refer to travel guides like [Lonely Planet](https://www.lonelyplanet.com/italy/rome) or [Travel + Leisure](https://www.travelandleisure.com/rome-travel-guide-8426023). \\n\\nLet me know if you need further assistance!', additional_kwargs={'refusal': None}, response_metadata={'token_usage': {'completion_tokens': 431, 'prompt_tokens': 1203, 'total_tokens': 1634, 'completion_tokens_details': {'audio_tokens': None, 'reasoning_tokens': 0}, 'prompt_tokens_details': {'audio_tokens': None, 'cached_tokens': 0}}, 'model_name': 'gpt-4o-mini-2024-07-18', 'system_fingerprint': 'fp_f85bea6784', 'finish_reason': 'stop', 'logprobs': None}, name='travel_agent', id='run-234c5dfb-f646-49c4-b4d3-e3928de052d1-0', usage_metadata={'input_tokens': 1203, 'output_tokens': 431, 'total_tokens': 1634, 'input_token_details': {'cache_read': 0}, 'output_token_details': {'reasoning': 0}})], 'sender': 'travel_agent'}}\n",
      "----\n",
      "{'chef_agent': {'messages': [AIMessage(content='FINAL ANSWER: To visit two highly-rated seafood restaurants in Rome, you can start your day at **Il Tempio di Iside** near the Colosseum and then walk or take a taxi to **Sa Tanca Crostaceria** in central Rome. Enjoy a delightful seafood meal at each location while exploring the beautiful sights of the city.', additional_kwargs={'refusal': None}, response_metadata={'token_usage': {'completion_tokens': 72, 'prompt_tokens': 1633, 'total_tokens': 1705, 'completion_tokens_details': {'audio_tokens': None, 'reasoning_tokens': 0}, 'prompt_tokens_details': {'audio_tokens': None, 'cached_tokens': 0}}, 'model_name': 'gpt-4o-mini-2024-07-18', 'system_fingerprint': 'fp_f85bea6784', 'finish_reason': 'stop', 'logprobs': None}, name='chef_agent', id='run-3449bc4e-f89c-4060-92d4-9d19a5e2c5ad-0', usage_metadata={'input_tokens': 1633, 'output_tokens': 72, 'total_tokens': 1705, 'input_token_details': {'cache_read': 0}, 'output_token_details': {'reasoning': 0}})], 'sender': 'chef_agent'}}\n",
      "----\n"
     ]
    }
   ],
   "source": [
    "'''\n",
    "events = graph.stream(\n",
    "    {\n",
    "        \"messages\": [\n",
    "            HumanMessage(\n",
    "                content=\"Give me a route to go in Rome to visit at least 2 different 5 star restaurants with best sea food\"\n",
    "            )\n",
    "        ],\n",
    "    },\n",
    "    # Maximum number of steps to take in the graph\n",
    "    {\"recursion_limit\": 150},\n",
    ")\n",
    "for s in events:\n",
    "    print(s)\n",
    "    print(\"----\")\n",
    "'''"
   ]
  },
  {
   "cell_type": "code",
   "execution_count": 12,
   "metadata": {},
   "outputs": [
    {
     "name": "stderr",
     "output_type": "stream",
     "text": [
      "2024-10-10 17:08:25.722 WARNING streamlit.runtime.scriptrunner_utils.script_run_context: Thread 'MainThread': missing ScriptRunContext! This warning can be ignored when running in bare mode.\n",
      "2024-10-10 17:08:25.749 \n",
      "  \u001b[33m\u001b[1mWarning:\u001b[0m to view this Streamlit app on a browser, run it with the following\n",
      "  command:\n",
      "\n",
      "    streamlit run /Users/asimdag/Desktop/personal/CMPE492/.llmenv/lib/python3.12/site-packages/ipykernel_launcher.py [ARGUMENTS]\n",
      "2024-10-10 17:08:25.750 Thread 'MainThread': missing ScriptRunContext! This warning can be ignored when running in bare mode.\n",
      "2024-10-10 17:08:25.750 Thread 'MainThread': missing ScriptRunContext! This warning can be ignored when running in bare mode.\n",
      "2024-10-10 17:08:25.750 Thread 'MainThread': missing ScriptRunContext! This warning can be ignored when running in bare mode.\n",
      "2024-10-10 17:08:25.750 Thread 'MainThread': missing ScriptRunContext! This warning can be ignored when running in bare mode.\n",
      "2024-10-10 17:08:25.751 Thread 'MainThread': missing ScriptRunContext! This warning can be ignored when running in bare mode.\n",
      "2024-10-10 17:08:25.751 Session state does not function when running a script without `streamlit run`\n",
      "2024-10-10 17:08:25.751 Thread 'MainThread': missing ScriptRunContext! This warning can be ignored when running in bare mode.\n",
      "2024-10-10 17:08:25.751 Thread 'MainThread': missing ScriptRunContext! This warning can be ignored when running in bare mode.\n",
      "2024-10-10 17:08:25.752 Thread 'MainThread': missing ScriptRunContext! This warning can be ignored when running in bare mode.\n",
      "2024-10-10 17:08:25.752 Thread 'MainThread': missing ScriptRunContext! This warning can be ignored when running in bare mode.\n",
      "2024-10-10 17:08:25.752 Thread 'MainThread': missing ScriptRunContext! This warning can be ignored when running in bare mode.\n",
      "2024-10-10 17:08:25.752 Thread 'MainThread': missing ScriptRunContext! This warning can be ignored when running in bare mode.\n",
      "2024-10-10 17:08:25.752 Thread 'MainThread': missing ScriptRunContext! This warning can be ignored when running in bare mode.\n"
     ]
    }
   ],
   "source": [
    "import streamlit as st\n",
    "st.title(\"AI Travel and Food Assistant\")\n",
    "\n",
    "# User input\n",
    "user_question = st.text_input(\"Ask a question about travel or food:\")\n",
    "\n",
    "if st.button(\"Submit\"):\n",
    "    if user_question:\n",
    "        # Process the user's question\n",
    "        events = graph.stream(\n",
    "            {\n",
    "                \"messages\": [HumanMessage(content=user_question)]\n",
    "            },\n",
    "            {\n",
    "                \"recursion_limit\": 150\n",
    "            },\n",
    "        )\n",
    "        \n",
    "        # Display the result\n",
    "        st.write(\"Assistant's response:\")\n",
    "        for event in events:\n",
    "            st.write(f\"{event}\")\n",
    "            print(\"-----\")\n",
    "    else:\n",
    "        st.warning(\"Please enter a question.\")"
   ]
  }
 ],
 "metadata": {
  "kernelspec": {
   "display_name": ".llmenv",
   "language": "python",
   "name": "python3"
  },
  "language_info": {
   "codemirror_mode": {
    "name": "ipython",
    "version": 3
   },
   "file_extension": ".py",
   "mimetype": "text/x-python",
   "name": "python",
   "nbconvert_exporter": "python",
   "pygments_lexer": "ipython3",
   "version": "3.12.7"
  }
 },
 "nbformat": 4,
 "nbformat_minor": 2
}
